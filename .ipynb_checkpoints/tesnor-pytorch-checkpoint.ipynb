{
 "cells": [
  {
   "cell_type": "code",
   "execution_count": 1,
   "id": "ca940fc4-50cb-4c46-b974-56ae84eb00d8",
   "metadata": {},
   "outputs": [],
   "source": [
    "import torch\n",
    "import torch.nn as nn\n",
    "import matplotlib.pyplot as plt\n",
    "from torchvision import datasets, transforms\n",
    "import torch.optim as optim\n",
    "import math\n",
    "import numpy as np\n",
    "import torchtr"
   ]
  },
  {
   "cell_type": "code",
   "execution_count": 2,
   "id": "2b850af6-67a2-4f2f-9acb-435905c1f2bc",
   "metadata": {},
   "outputs": [
    {
     "name": "stdout",
     "output_type": "stream",
     "text": [
      "Source: tensor([[0.2055, 0.7798, 0.0661, 0.9682, 0.9221],\n",
      "        [0.9475, 0.4382, 0.9532, 0.8977, 0.5669],\n",
      "        [0.3596, 0.1338, 0.5777, 0.1154, 0.1920],\n",
      "        [0.8368, 0.5015, 0.1205, 0.4017, 0.4041],\n",
      "        [0.5381, 0.7414, 0.4423, 0.6694, 0.6970],\n",
      "        [0.2325, 0.2898, 0.2492, 0.0233, 0.5857],\n",
      "        [0.8652, 0.4243, 0.5555, 0.2166, 0.8533],\n",
      "        [0.2895, 0.0900, 0.0214, 0.8214, 0.2610],\n",
      "        [0.2415, 0.4641, 0.6783, 0.6827, 0.8894],\n",
      "        [0.6284, 0.1430, 0.1499, 0.6188, 0.1935]])\n",
      "Shape: [10, 5]\n",
      "Rank: 2\n",
      "50\n"
     ]
    },
    {
     "data": {
      "text/plain": [
       "<torchtr.TR at 0x7be06fd9aa50>"
      ]
     },
     "execution_count": 2,
     "metadata": {},
     "output_type": "execute_result"
    }
   ],
   "source": [
    "torchtr.randn(2, shape=[10, 5])"
   ]
  },
  {
   "cell_type": "code",
   "execution_count": 2,
   "id": "40c935d1-04f2-438f-a541-6c861143d158",
   "metadata": {},
   "outputs": [],
   "source": [
    "class TRLinearLayer(nn.Module):\n",
    "    def __init__(self, size_in, size_out, rank):\n",
    "        super().__init__()\n",
    "        self.size_in, self.size_out = size_in, size_out\n",
    "\n",
    "        t = torchtr.randn([]\n",
    "        self.cores = nn.ParametersList([nn.Parameter(c) for c in t.cores()])\n",
    "    def forward(self, x):\n",
    "        return torch.rand(self.size_out)\n",
    "    def _decompress():\n",
    "        return torch.rand(self.size_out)\n",
    "\n",
    "class LeNet300100TR(nn.Module):\n",
    "    def __init__(self):\n",
    "        super(LeNet300100TR, self).__init__()\n",
    "        self.flatten = nn.Flatten()\n",
    "        self.classifier = nn.Sequential(\n",
    "            TRLinearLayer(784, 300),\n",
    "            nn.ReLU(),\n",
    "            TRLinearLayer(300, 100),\n",
    "            nn.ReLU(),\n",
    "            TRLinearLayer(100, 10), # Returns logits\n",
    "        )\n",
    "\n",
    "    def forward(self, x):\n",
    "        x = self.flatten(x)\n",
    "        x = self.classifier(x)\n",
    "        return x"
   ]
  },
  {
   "cell_type": "code",
   "execution_count": 3,
   "id": "5f984ad2-1ae1-4d1b-a295-9e8a053cb6c6",
   "metadata": {},
   "outputs": [
    {
     "name": "stdout",
     "output_type": "stream",
     "text": [
      "6000\n"
     ]
    }
   ],
   "source": [
    "transform = transforms.Compose([transforms.ToTensor(),\n",
    "                              transforms.Normalize((0.1307,), (0.3081,)),\n",
    "                              ])\n",
    "# Download and load the training data\n",
    "trainset = datasets.MNIST('MNIST_data/', download=True, train=True, transform=transform)\n",
    "validation_size = 0.10\n",
    "num_train = len(trainset)\n",
    "indices = list(range(num_train))\n",
    "np.random.shuffle(indices)\n",
    "# Calculate the number of data points in the validation set\n",
    "split = int(np.floor(validation_size * num_train))\n",
    "print(split)\n",
    "\n",
    "# Train_idx => Imatges per entrenar\n",
    "# Valid_idx => Imatges per verificar i comprovar el model\n",
    "train_idx, valid_idx = indices[split:], indices[:split]\n",
    "# print(trainset)\n",
    "\n",
    "\n",
    "# Create data samplers\n",
    "train_sampler = torch.utils.data.sampler.SubsetRandomSampler(train_idx)\n",
    "valid_sampler = torch.utils.data.sampler.SubsetRandomSampler(valid_idx)\n",
    "\n",
    "# Create dataloaders\n",
    "train_loader = torch.utils.data.DataLoader(trainset, batch_size=64, sampler=train_sampler)\n",
    "valid_loader = torch.utils.data.DataLoader(trainset, batch_size=64, sampler=valid_sampler)"
   ]
  },
  {
   "cell_type": "code",
   "execution_count": 4,
   "id": "ac674f4c-3ae5-4261-95d9-e0b91743ada9",
   "metadata": {},
   "outputs": [],
   "source": [
    "def show_example_batch():\n",
    "    # Get the first batch\n",
    "    dataiter = iter(train_loader)\n",
    "    images, labels = next(dataiter)\n",
    "    \n",
    "    # Plot the images in the batch, along with the corresponding labels\n",
    "    fig = plt.figure(figsize=(25, 4))\n",
    "    plot_size=20\n",
    "    for idx in np.arange(plot_size):\n",
    "        ax = fig.add_subplot(2, int(plot_size/2), idx+1, xticks=[], yticks=[])\n",
    "        ax.imshow(np.squeeze(images[idx].numpy()), cmap='gray')\n",
    "        # print out the correct label for each image\n",
    "        # .item() gets the value contained in a Tensor\n",
    "        ax.set_title(str(labels[idx].item()))\n",
    "    plt.imshow(images[0].numpy().squeeze(), cmap='gray_r')\n",
    "    \n",
    "    # Print shape of training dataset\n",
    "    print(\"Training dataset shape: \", trainset.train_data.shape)"
   ]
  },
  {
   "cell_type": "code",
   "execution_count": 5,
   "id": "2e7fe60e-da74-43c6-b73c-8546e8969b84",
   "metadata": {},
   "outputs": [
    {
     "name": "stdout",
     "output_type": "stream",
     "text": [
      "Training dataset shape:  torch.Size([60000, 28, 28])\n"
     ]
    },
    {
     "name": "stderr",
     "output_type": "stream",
     "text": [
      "/usr/lib/python3.13/site-packages/torchvision/datasets/mnist.py:76: UserWarning: train_data has been renamed data\n",
      "  warnings.warn(\"train_data has been renamed data\")\n"
     ]
    },
    {
     "data": {
      "image/png": "[encoded data removed]",
      "text/plain": [
       "<Figure size 2500x400 with 20 Axes>"
      ]
     },
     "metadata": {},
     "output_type": "display_data"
    }
   ],
   "source": [
    "show_example_batch()"
   ]
  },
  {
   "cell_type": "code",
   "execution_count": 6,
   "id": "4a427448-ada6-437a-9448-9f1b0deefcd4",
   "metadata": {},
   "outputs": [],
   "source": [
    "# Parameters for training\n",
    "learning_rate = 1.2e-3\n",
    "batch_size = 60\n",
    "epochs = 50 \n",
    "\n",
    "# Validation Calculation\n",
    "val_check_iter = 3\n",
    "iterations_per_epoch = len(train_loader)"
   ]
  },
  {
   "cell_type": "code",
   "execution_count": 7,
   "id": "baeda3e7-08ab-400c-8369-54c6a9be7163",
   "metadata": {},
   "outputs": [],
   "source": [
    "def evaluate_validation_set(model, validation_loader, device):\n",
    "    model.eval()  # Set the model to evaluation mode\n",
    "    total = 0\n",
    "    correct = 0\n",
    "    with torch.no_grad():  # Disable gradient computation\n",
    "        for x_val, y_val in validation_loader:\n",
    "            x_val = x_val.to(device)\n",
    "            y_val = y_val.to(device)\n",
    "\n",
    "            outputs = model(x_val)\n",
    "            _, predicted = torch.max(outputs.data, 1)\n",
    "            total += y_val.size(0)\n",
    "            correct += (predicted == y_val).sum().item()\n",
    "\n",
    "    accuracy = correct / total\n",
    "    return accuracy"
   ]
  },
  {
   "cell_type": "code",
   "execution_count": 8,
   "id": "cda7669d-54cc-480b-b3b0-e0766b9e3431",
   "metadata": {},
   "outputs": [
    {
     "name": "stdout",
     "output_type": "stream",
     "text": [
      "LeNet300100TR(\n",
      "  (flatten): Flatten(start_dim=1, end_dim=-1)\n",
      "  (classifier): Sequential(\n",
      "    (0): TRLinearLayer()\n",
      "    (1): ReLU()\n",
      "    (2): TRLinearLayer()\n",
      "    (3): ReLU()\n",
      "    (4): TRLinearLayer()\n",
      "  )\n",
      ")\n",
      "Device: cuda:0\n"
     ]
    }
   ],
   "source": [
    "model = LeNet300100TR()\n",
    "print(model)\n",
    "\n",
    "device = torch.device(\"cuda:0\" if torch.cuda.is_available() else \"cpu\")\n",
    "model.to(device)\n",
    "print(\"Device:\", device)"
   ]
  },
  {
   "cell_type": "code",
   "execution_count": 9,
   "id": "f612b704-3e69-4085-88ec-d8892c90f99a",
   "metadata": {},
   "outputs": [
    {
     "name": "stdout",
     "output_type": "stream",
     "text": [
      "Parameter containing:\n",
      "tensor([0.9608, 0.4047, 0.2772, 0.5950, 0.0329, 0.2006, 0.7905, 0.5340, 0.3208,\n",
      "        0.8595, 0.0856, 0.7508, 0.2276, 0.7867, 0.2216, 0.6486, 0.5823, 0.5503,\n",
      "        0.0445, 0.2782, 0.5685, 0.6588, 0.6238, 0.0059, 0.1493, 0.3413, 0.2822,\n",
      "        0.8287, 0.2873, 0.4627, 0.6348, 0.3631, 0.1497, 0.6080, 0.7511, 0.8459,\n",
      "        0.6667, 0.6831, 0.4278, 0.6435, 0.5550, 0.5327, 0.4061, 0.4741, 0.8258,\n",
      "        0.5159, 0.3421, 0.6730, 0.6360, 0.2223, 0.5739, 0.0777, 0.4452, 0.5078,\n",
      "        0.0655, 0.4289, 0.8798, 0.3302, 0.7042, 0.7448, 0.4158, 0.0962, 0.8951,\n",
      "        0.3420, 0.4025, 0.4362, 0.6907, 0.1925, 0.9001, 0.7597, 0.8810, 0.5233,\n",
      "        0.3948, 0.1896, 0.7574, 0.8955, 0.8110, 0.7757, 0.3312, 0.0068, 0.9142,\n",
      "        0.8502, 0.6717, 0.1028, 0.9031, 0.8788, 0.0894, 0.2607, 0.3443, 0.2402,\n",
      "        0.2954, 0.1401, 0.8671, 0.2919, 0.0861, 0.4285, 0.6753, 0.9032, 0.4262,\n",
      "        0.8899, 0.6071, 0.5466, 0.0942, 0.9134, 0.1822, 0.1093, 0.7054, 0.0290,\n",
      "        0.3597, 0.1328, 0.5770, 0.6530, 0.7894, 0.0432, 0.9814, 0.4258, 0.8849,\n",
      "        0.1544, 0.0812, 0.1589, 0.0979, 0.0863, 0.6283, 0.3991, 0.4888, 0.3522,\n",
      "        0.3232, 0.1470, 0.0268, 0.6121, 0.5911, 0.0885, 0.5045, 0.1589, 0.4028,\n",
      "        0.7403, 0.3876, 0.9824, 0.3283, 0.9954, 0.7373, 0.6807, 0.2915, 0.4609,\n",
      "        0.4667, 0.9105, 0.1466, 0.1457, 0.7705, 0.1824, 0.3465, 0.8125, 0.2618,\n",
      "        0.3977, 0.3574, 0.0234, 0.7624, 0.2758, 0.0852, 0.1921, 0.6800, 0.8484,\n",
      "        0.9941, 0.0949, 0.2288, 0.7936, 0.5121, 0.8464, 0.0488, 0.1332, 0.5034,\n",
      "        0.8200, 0.2222, 0.6878, 0.8718, 0.0613, 0.4267, 0.2635, 0.1569, 0.2528,\n",
      "        0.6116, 0.5736, 0.7502, 0.8897, 0.4161, 0.7527, 0.4959, 0.7547, 0.7343,\n",
      "        0.2769, 0.0298, 0.6188, 0.6835, 0.1748, 0.8565, 0.6664, 0.3414, 0.9398,\n",
      "        0.0127, 0.3586, 0.3167, 0.1127, 0.9534, 0.1526, 0.5861, 0.5437, 0.7008,\n",
      "        0.5176, 0.4029, 0.9571, 0.6662, 0.2652, 0.0787, 0.5236, 0.2193, 0.4166,\n",
      "        0.9554, 0.8882, 0.8404, 0.9953, 0.4056, 0.3460, 0.7322, 0.0895, 0.4982,\n",
      "        0.2918, 0.7712, 0.9991, 0.7955, 0.9244, 0.0573, 0.8000, 0.5449, 0.3280,\n",
      "        0.7072, 0.8563, 0.8054, 0.7008, 0.7264, 0.4999, 0.3915, 0.6796, 0.9713,\n",
      "        0.7946, 0.6947, 0.9549, 0.6935, 0.5880, 0.1365, 0.4020, 0.4750, 0.8557,\n",
      "        0.9807, 0.3617, 0.9712, 0.6632, 0.5496, 0.5279, 0.4155, 0.2000, 0.0775,\n",
      "        0.8327, 0.6630, 0.9608, 0.5743, 0.6333, 0.1154, 0.0012, 0.9412, 0.6916,\n",
      "        0.1669, 0.8161, 0.9608, 0.6290, 0.1447, 0.1098, 0.5305, 0.1913, 0.9601,\n",
      "        0.9190, 0.2736, 0.0572, 0.9581, 0.4168, 0.2442, 0.7813, 0.6249, 0.6927,\n",
      "        0.5298, 0.9418, 0.1120, 0.6117, 0.5006, 0.4455, 0.2459, 0.1184, 0.1840,\n",
      "        0.2989, 0.6752, 0.4757], device='cuda:0', requires_grad=True)\n",
      "Parameter containing:\n",
      "tensor([0.6042, 0.5996, 0.2417, 0.9660, 0.2509, 0.7611, 0.6087, 0.1660, 0.3044,\n",
      "        0.4068, 0.6176, 0.3961, 0.9139, 0.6644, 0.1297, 0.0040, 0.8218, 0.4122,\n",
      "        0.5242, 0.7045, 0.5600, 0.3582, 0.3582, 0.0374, 0.1433, 0.1703, 0.9992,\n",
      "        0.2432, 0.8143, 0.6794, 0.8475, 0.0346, 0.4254, 0.9765, 0.7562, 0.3934,\n",
      "        0.8915, 0.1328, 0.9699, 0.4330, 0.7840, 0.1705, 0.9783, 0.9366, 0.0744,\n",
      "        0.4943, 0.2991, 0.9917, 0.0586, 0.9104, 0.3259, 0.5434, 0.8379, 0.2643,\n",
      "        0.3695, 0.8567, 0.7909, 0.3763, 0.6652, 0.5908, 0.9155, 0.6100, 0.2191,\n",
      "        0.6084, 0.3186, 0.6406, 0.7758, 0.1291, 0.9496, 0.1283, 0.1193, 0.6568,\n",
      "        0.2190, 0.0875, 0.1948, 0.4114, 0.1722, 0.6536, 0.9368, 0.4339, 0.3319,\n",
      "        0.3413, 0.3983, 0.5796, 0.2332, 0.5351, 0.1893, 0.9788, 0.5134, 0.1038,\n",
      "        0.6496, 0.5130, 0.8211, 0.4798, 0.1633, 0.4212, 0.8952, 0.8193, 0.3792,\n",
      "        0.4344], device='cuda:0', requires_grad=True)\n",
      "Parameter containing:\n",
      "tensor([0.6666, 0.7853, 0.6657, 0.4724, 0.4195, 0.4728, 0.2985, 0.5802, 0.0438,\n",
      "        0.4037], device='cuda:0', requires_grad=True)\n"
     ]
    }
   ],
   "source": [
    "optimizer = optim.Adam(model.parameters(), lr=learning_rate)\n",
    "for a in model.parameters():\n",
    "    print(a)"
   ]
  },
  {
   "cell_type": "code",
   "execution_count": 10,
   "id": "b14c4741-ad5c-4d92-b1c0-eb92ffef23bd",
   "metadata": {},
   "outputs": [],
   "source": [
    "#device = torch.accelerator.current_accelerator() if torch.accelerator.is_available() else torch.device('cpu')\n",
    "#x = torch.rand(100, 100, device=device)\n",
    "#print(x.shape)\n",
    "#x = x.reshape(10, 10, 10, 10)\n",
    "#print(x)"
   ]
  },
  {
   "cell_type": "code",
   "execution_count": null,
   "id": "16a917c5-f686-4961-9b3e-45ee043d097a",
   "metadata": {},
   "outputs": [],
   "source": []
  }
 ],
 "metadata": {
  "kernelspec": {
   "display_name": "Python 3 (ipykernel)",
   "language": "python",
   "name": "python3"
  },
  "language_info": {
   "codemirror_mode": {
    "name": "ipython",
    "version": 3
   },
   "file_extension": ".py",
   "mimetype": "text/x-python",
   "name": "python",
   "nbconvert_exporter": "python",
   "pygments_lexer": "ipython3",
   "version": "3.13.1"
  }
 },
 "nbformat": 4,
 "nbformat_minor": 5
}
