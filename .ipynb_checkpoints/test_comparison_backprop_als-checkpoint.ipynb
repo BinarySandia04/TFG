{
 "cells": [
  {
   "cell_type": "code",
   "execution_count": 1,
   "id": "85834701-a393-4b03-acc4-2195a65dd18b",
   "metadata": {},
   "outputs": [
    {
     "name": "stdout",
     "output_type": "stream",
     "text": [
      "cuda:0\n"
     ]
    }
   ],
   "source": [
    "from tn import *\n",
    "import matplotlib.pyplot as plt\n",
    "import numpy as np"
   ]
  },
  {
   "cell_type": "code",
   "execution_count": 2,
   "id": "530f1af5-5860-4bf9-97c5-ecd6d859375d",
   "metadata": {},
   "outputs": [],
   "source": [
    "def f(x):\n",
    "    return x * np.sin(200 * (x + 1)**2)\n",
    "def g(x):\n",
    "    return np.sin(250 * x ** 3) * np.cos(150 * x)\n",
    "def h(x):\n",
    "    return np.sin(1000 * x ** 3)"
   ]
  },
  {
   "cell_type": "code",
   "execution_count": 3,
   "id": "ca84a60a-1a05-434e-a75f-75366069f7d2",
   "metadata": {},
   "outputs": [],
   "source": [
    "x = np.linspace(0, 1, 1000)\n",
    "yF = f(x)\n",
    "yG = g(x)\n",
    "yH = h(x)"
   ]
  },
  {
   "cell_type": "code",
   "execution_count": 4,
   "id": "134451dc-fc0f-454f-bf2d-68c3c44a8254",
   "metadata": {},
   "outputs": [
    {
     "data": {
      "text/plain": [
       "14"
      ]
     },
     "execution_count": 4,
     "metadata": {},
     "output_type": "execute_result"
    }
   ],
   "source": [
    "len([3, 3, 3, 3, 3, 3, 3, 3, 3, 3, 3, 3, 3, 3])"
   ]
  },
  {
   "cell_type": "code",
   "execution_count": 5,
   "id": "7799c533-9276-476b-9453-c984cbdcdb23",
   "metadata": {},
   "outputs": [
    {
     "name": "stdout",
     "output_type": "stream",
     "text": [
      "torch.Size([10, 5, 5])\n",
      "torch.Size([10, 5, 5])\n",
      "torch.Size([10, 5, 5])\n",
      "1000\n",
      "torch.Size([10, 5, 5])\n",
      "torch.Size([10, 5, 5])\n",
      "torch.Size([10, 5, 5])\n",
      "750\n"
     ]
    },
    {
     "data": {
      "text/plain": [
       "<Figure size 640x480 with 0 Axes>"
      ]
     },
     "metadata": {},
     "output_type": "display_data"
    }
   ],
   "source": [
    "data = []\n",
    "\n",
    "G1 = nx.Graph()\n",
    "G1.add_edges_from([[1, 2], [2, 3], [3, 1]])\n",
    "nx.draw(G1, with_labels=True)\n",
    "plt.savefig(\"results/comp-als/graph-1.png\", format=\"PNG\")\n",
    "plt.clf()\n",
    "\n",
    "data.append([G1, [10, 10, 10], [5, 5, 5]])\n",
    "\n",
    "G2 = nx.Graph()\n",
    "G2.add_edges_from([[1, 2], [2, 3], [3, 4]])\n",
    "nx.draw(G2, with_labels=True)\n",
    "plt.savefig(\"results/comp-als/graph-2.png\", format=\"PNG\")\n",
    "plt.clf()\n",
    "data.append([G2, [10, 10, 10, 10], [10, 10, 10]])\n",
    "\n",
    "G3 = nx.Graph()\n",
    "G3.add_edges_from([[1, 2], [2, 3], [3, 4], [4, 5], [5, 1]])\n",
    "nx.draw(G3, with_labels=True)\n",
    "plt.savefig(\"results/comp-als/graph-3.png\", format=\"PNG\")\n",
    "plt.clf()\n",
    "data.append([G3, [10, 10, 10, 10, 10], [7, 7, 7, 7, 7]])\n",
    "\n",
    "G4 = nx.Graph()\n",
    "G4.add_edges_from([[1, 2], [2, 3], [3, 4], [4, 5], [5, 1], [3, 5]])\n",
    "nx.draw(G4, with_labels=True)\n",
    "plt.savefig(\"results/comp-als/graph-4.png\", format=\"PNG\")\n",
    "plt.clf()\n",
    "data.append([G4, [10, 10, 10, 10, 10], [7, 7, 7, 7, 7, 7]])\n",
    "\n",
    "\n",
    "G5 = nx.Graph()\n",
    "G5.add_edges_from([[1, 2], [1, 3], [2, 4], [2, 5]])\n",
    "nx.draw(G5, with_labels=True)\n",
    "plt.savefig(\"results/comp-als/graph-5.png\", format=\"PNG\")\n",
    "plt.clf()\n",
    "data.append([G5, [10, 10, 10, 10, 10], [12, 12, 12, 12]])\n",
    "\n",
    "G6 = nx.Graph()\n",
    "G6.add_edges_from([[1, 2], [1, 3], [1, 4], [1, 5], [1, 6], [2, 3], [2, 4], [2, 5], [2, 6], [3, 4], [3, 5], [3, 6], [4, 5], [4, 6], [5, 6]])\n",
    "nx.draw(G6, with_labels=True)\n",
    "plt.savefig(\"results/comp-als/graph-6.png\", format=\"PNG\")\n",
    "plt.clf()\n",
    "data.append([G6, [10, 10, 10, 10, 10, 10], [3, 3, 3, 3, 3, 3, 3, 3, 3, 3, 3, 3, 3, 3, 3]])\n",
    "\n",
    "i = 1\n",
    "with open(\"results/comp-als/data.txt\", \"w\") as file:\n",
    "    for G, shape, ranks in data:\n",
    "        x = np.linspace(0, 1, np.prod(shape))\n",
    "        yF = f(x)\n",
    "        yG = g(x)\n",
    "        yH = h(x)\n",
    "    \n",
    "        T = [\n",
    "            torch.reshape(torch.tensor(yF, dtype=torch.float), shape).to(device),\n",
    "            torch.reshape(torch.tensor(yG, dtype=torch.float), shape).to(device),\n",
    "            torch.reshape(torch.tensor(yH, dtype=torch.float), shape).to(device)\n",
    "        ]\n",
    "        j = 1\n",
    "        file.write(\"==================== G\" + str(i) + \" =========================\\n\")\n",
    "        tn = TN(G, shape, ranks)\n",
    "        file.write(\"CR: \" + str(torch.numel(T[0]) / tn.get_tn_size()) + \"\\n\")\n",
    "        file.write(\"Shape: \" + str(shape) + \"    Ranks: \" + str(ranks) + \"\\n\\n\")\n",
    "        \n",
    "        del tn\n",
    "        for t in T:\n",
    "            tn = TN(G, shape, ranks)\n",
    "            \n",
    "            print(\"TN-ALS\")\n",
    "            start_time = time.time()\n",
    "            rel_err, graph = TN.als(tn, t, 0, print_iters=True, max_time=5)\n",
    "            end_time = time.time()\n",
    "            elapsed_time = end_time - start_time\n",
    "            print(\"Rel err: \" + str(rel_err))\n",
    "            print(\"Elapsed time: \" + str(elapsed_time))\n",
    "            print()\n",
    "            file.write(\"TN-ALS (\" + str(j) + \"): err: \" + str(rel_err) + \"; time: \" + str(elapsed_time) + \"\\n\")\n",
    "\n",
    "            plt.clf()\n",
    "            plt.ylim(0, 0.4)\n",
    "            plt.xlim(1, 100)\n",
    "            plt.xlabel(\"Iterations\")\n",
    "            plt.ylabel(\"Rel. error\")\n",
    "            plt.xticks(range(0, 101, 10))\n",
    "            \n",
    "            plt.plot(graph[1], label=\"tn-als\")\n",
    "            del tn\n",
    "            tn = TN(G, shape, ranks)\n",
    "    \n",
    "            print(\"Backprop\")\n",
    "            start_time = time.time()\n",
    "            rel_err, graph = TN.als_grad(tn, t, print_iters=True, max_time=5)\n",
    "            end_time = time.time()\n",
    "            elapsed_time = end_time - start_time\n",
    "            print(\"Rel err: \" + str(rel_err))\n",
    "            print(\"Elapsed time: \" + str(elapsed_time))\n",
    "            print()\n",
    "            \n",
    "            file.write(\"Backprop (\" + str(j) + \"): err: \" + str(rel_err) + \"; time: \" + str(elapsed_time) + \"\\n\")\n",
    "            plt.plot(graph[1], label=\"backprop\")\n",
    "    \n",
    "            plt.legend()\n",
    "            plt.savefig('results/comp-als/G' + str(i) + \"-T\" + str(j) + \".png\")\n",
    "            plt.show()\n",
    "            del tn\n",
    "            j += 1\n",
    "        i += 1"
   ]
  },
  {
   "cell_type": "code",
   "execution_count": null,
   "id": "ca7c9eab-5ab8-46df-b65e-156f2e2515f8",
   "metadata": {},
   "outputs": [],
   "source": []
  }
 ],
 "metadata": {
  "kernelspec": {
   "display_name": "Python 3 (ipykernel)",
   "language": "python",
   "name": "python3"
  },
  "language_info": {
   "codemirror_mode": {
    "name": "ipython",
    "version": 3
   },
   "file_extension": ".py",
   "mimetype": "text/x-python",
   "name": "python",
   "nbconvert_exporter": "python",
   "pygments_lexer": "ipython3",
   "version": "3.12.8"
  }
 },
 "nbformat": 4,
 "nbformat_minor": 5
}
