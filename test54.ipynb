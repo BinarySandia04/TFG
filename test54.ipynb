{
 "cells": [
  {
   "cell_type": "code",
   "execution_count": 1,
   "id": "1429e825-16a4-492f-96a9-3e0bbe36266e",
   "metadata": {},
   "outputs": [],
   "source": [
    "import numpy as np\n",
    "import torch\n",
    "import matplotlib.pyplot as plt\n",
    "import networkx as nx\n",
    "import copy"
   ]
  },
  {
   "cell_type": "code",
   "execution_count": 22,
   "id": "78ff1e1f-6266-4b50-92ee-a84b5f578bf2",
   "metadata": {},
   "outputs": [
    {
     "name": "stdout",
     "output_type": "stream",
     "text": [
      "tensor([[[ 1,  0],\n",
      "         [ 0,  1]],\n",
      "\n",
      "        [[ 1,  0],\n",
      "         [ 1,  1]],\n",
      "\n",
      "        [[ 1,  0],\n",
      "         [ 0, -1]]])\n",
      "tensor([[[ 1,  0, -1],\n",
      "         [ 0,  2, -2]],\n",
      "\n",
      "        [[ 1,  1,  0],\n",
      "         [ 2,  0,  2]]])\n"
     ]
    }
   ],
   "source": [
    "X = torch.tensor([[[1,0], [0, 1]], [[1,0], [1,1]], [[1,0], [0, -1]]])\n",
    "Y = torch.tensor([[[1, 0, -1], [0, 2, -2]], [[1,1,0], [2,0,2]]])\n",
    "print(X)\n",
    "print(Y)"
   ]
  },
  {
   "cell_type": "code",
   "execution_count": 13,
   "id": "f754e62d-cfe2-4a38-ac8d-e71ba30cd3bf",
   "metadata": {},
   "outputs": [
    {
     "name": "stdout",
     "output_type": "stream",
     "text": [
      "torch.Size([3, 2, 2])\n",
      "torch.Size([2, 2, 3])\n"
     ]
    },
    {
     "data": {
      "text/plain": [
       "tensor([[[[ 1,  0, -1],\n",
       "          [ 1,  1,  0]],\n",
       "\n",
       "         [[ 0,  2, -2],\n",
       "          [ 2,  0,  2]]],\n",
       "\n",
       "\n",
       "        [[[ 1,  2, -3],\n",
       "          [ 3,  1,  2]],\n",
       "\n",
       "         [[ 0,  2, -2],\n",
       "          [ 2,  0,  2]]],\n",
       "\n",
       "\n",
       "        [[[ 1,  0, -1],\n",
       "          [ 1,  1,  0]],\n",
       "\n",
       "         [[ 0, -2,  2],\n",
       "          [-2,  0, -2]]]])"
      ]
     },
     "execution_count": 13,
     "metadata": {},
     "output_type": "execute_result"
    }
   ],
   "source": [
    "print(X.shape)\n",
    "print(Y.shape)\n",
    "torch.tensordot(X, Y, dims=([1], [1]))"
   ]
  },
  {
   "cell_type": "code",
   "execution_count": 21,
   "id": "ecb06253-74a9-435c-8404-392a54d246cf",
   "metadata": {},
   "outputs": [
    {
     "data": {
      "text/plain": [
       "tensor([[ 1,  0],\n",
       "        [ 0,  1],\n",
       "        [ 1,  1],\n",
       "        [ 0,  1],\n",
       "        [ 1,  0],\n",
       "        [ 0, -1]])"
      ]
     },
     "execution_count": 21,
     "metadata": {},
     "output_type": "execute_result"
    }
   ],
   "source": [
    "torch.reshape(torch.permute(X, (0, 2, 1)), (6, 2))"
   ]
  },
  {
   "cell_type": "code",
   "execution_count": 23,
   "id": "80004ce9-73bc-4873-b3cf-3d5e7731eec8",
   "metadata": {},
   "outputs": [
    {
     "data": {
      "text/plain": [
       "tensor([[ 1,  0, -1,  1,  1,  0],\n",
       "        [ 0,  2, -2,  2,  0,  2]])"
      ]
     },
     "execution_count": 23,
     "metadata": {},
     "output_type": "execute_result"
    }
   ],
   "source": [
    "torch.reshape(torch.permute(Y, (1,0,2)), (2, 6))"
   ]
  },
  {
   "cell_type": "code",
   "execution_count": null,
   "id": "305dd121-afca-49d2-97b9-3427cc69806a",
   "metadata": {},
   "outputs": [],
   "source": []
  }
 ],
 "metadata": {
  "kernelspec": {
   "display_name": "Python 3 (ipykernel)",
   "language": "python",
   "name": "python3"
  },
  "language_info": {
   "codemirror_mode": {
    "name": "ipython",
    "version": 3
   },
   "file_extension": ".py",
   "mimetype": "text/x-python",
   "name": "python",
   "nbconvert_exporter": "python",
   "pygments_lexer": "ipython3",
   "version": "3.13.2"
  }
 },
 "nbformat": 4,
 "nbformat_minor": 5
}
