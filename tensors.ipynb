{
 "cells": [
  {
   "cell_type": "code",
   "execution_count": 1,
   "id": "4d40264a-ca12-42b2-9128-9ebc2d1874cc",
   "metadata": {},
   "outputs": [],
   "source": [
    "import numpy as np\n",
    "import torch\n",
    "import matplotlib.pyplot as plt\n",
    "import networkx as nx\n",
    "import copy"
   ]
  },
  {
   "cell_type": "code",
   "execution_count": 2,
   "id": "108752a7-a52c-40f9-bf81-8b47506d84c8",
   "metadata": {},
   "outputs": [],
   "source": [
    "n = 5\n",
    "shape = (10,) * n\n",
    "tensor = torch.randn(shape)"
   ]
  },
  {
   "cell_type": "code",
   "execution_count": 22,
   "id": "deb941d4-5996-460d-b20c-457f1ab5e23b",
   "metadata": {},
   "outputs": [],
   "source": [
    "class TN():\n",
    "    def initTensor(self, shape):\n",
    "        return torch.randn(shape)\n",
    "    \n",
    "    def __init__(self, G, sizes, ranks):\n",
    "        if len(G.edges) != len(ranks):\n",
    "            raise Exception(\"Rank length must be equal to the number of edges\")\n",
    "        if len(G.nodes) != len(sizes):\n",
    "            raise Exception(\"Sizes length must be equal to the number of nodes\")\n",
    "        self.data = nx.Graph()\n",
    "        i = 0\n",
    "        for node in G.nodes:\n",
    "            shape = [sizes[i]]\n",
    "            self.data.add_node(node, shape=shape)\n",
    "            i += 1\n",
    "        i = 0\n",
    "        for edge in G.edges:\n",
    "            self.data.nodes[edge[0]]['shape'].append(ranks[i])\n",
    "            self.data.nodes[edge[1]]['shape'].append(ranks[i])\n",
    "            self.data.add_edge(edge[0], edge[1], rank=ranks[i], from_index=len(self.data.nodes[edge[0]]['shape']) - 1, to_index=len(self.data.nodes[edge[1]]['shape']) - 1)\n",
    "            i += 1\n",
    "        i = 0\n",
    "        for node in G.nodes:\n",
    "            self.data.nodes[node]['tensor'] = self.initTensor(self.data.nodes[node]['shape'])\n",
    "        self.m = len(self.data.nodes) + 1\n",
    "        print(self.data.edges(data=True))\n",
    "\n",
    "    def merge_nodes(self, node1, node2):\n",
    "        t1 = self.data.nodes[node1]['tensor']\n",
    "        t2 = self.data.nodes[node2]['tensor']\n",
    "        self.data.get_edge_data(node1, node2)\n",
    "\n",
    "    def edges(self):\n",
    "        return self.data.edges\n",
    "    \n",
    "    def eval(self):\n",
    "        J = copy.deepcopy(self)\n",
    "        while len(J.edges()) > 1:\n",
    "            edge = list(J.edges())[0]\n",
    "            J.merge_nodes(edge[0], edge[1])\n",
    "        "
   ]
  },
  {
   "cell_type": "code",
   "execution_count": 23,
   "id": "620c9b04-0b3f-4700-9710-2d7164435a7e",
   "metadata": {},
   "outputs": [
    {
     "data": {
      "image/png": "[encoded data removed]",
      "text/plain": [
       "<Figure size 640x480 with 1 Axes>"
      ]
     },
     "metadata": {},
     "output_type": "display_data"
    },
    {
     "name": "stdout",
     "output_type": "stream",
     "text": [
      "[(1, 2, {'rank': 5, 'from_index': 1, 'to_index': 1}), (1, 3, {'rank': 5, 'from_index': 2, 'to_index': 1}), (2, 3, {'rank': 5, 'from_index': 2, 'to_index': 2})]\n",
      "[1]\n",
      "[1]\n"
     ]
    },
    {
     "ename": "TypeError",
     "evalue": "'tuple' object does not support item assignment",
     "output_type": "error",
     "traceback": [
      "\u001b[31m---------------------------------------------------------------------------\u001b[39m",
      "\u001b[31mTypeError\u001b[39m                                 Traceback (most recent call last)",
      "\u001b[36mCell\u001b[39m\u001b[36m \u001b[39m\u001b[32mIn[23]\u001b[39m\u001b[32m, line 10\u001b[39m\n\u001b[32m      7\u001b[39m plt.show()\n\u001b[32m      9\u001b[39m tn = TN(G, [\u001b[32m10\u001b[39m, \u001b[32m10\u001b[39m, \u001b[32m10\u001b[39m], [\u001b[32m5\u001b[39m,\u001b[32m5\u001b[39m,\u001b[32m5\u001b[39m])\n\u001b[32m---> \u001b[39m\u001b[32m10\u001b[39m \u001b[43mtn\u001b[49m\u001b[43m.\u001b[49m\u001b[43meval\u001b[49m\u001b[43m(\u001b[49m\u001b[43m)\u001b[49m\n",
      "\u001b[36mCell\u001b[39m\u001b[36m \u001b[39m\u001b[32mIn[22]\u001b[39m\u001b[32m, line 71\u001b[39m, in \u001b[36mTN.eval\u001b[39m\u001b[34m(self)\u001b[39m\n\u001b[32m     69\u001b[39m \u001b[38;5;28;01mwhile\u001b[39;00m \u001b[38;5;28mlen\u001b[39m(J.edges()) > \u001b[32m1\u001b[39m:\n\u001b[32m     70\u001b[39m     edge = \u001b[38;5;28mlist\u001b[39m(J.edges())[\u001b[32m0\u001b[39m]\n\u001b[32m---> \u001b[39m\u001b[32m71\u001b[39m     \u001b[43mJ\u001b[49m\u001b[43m.\u001b[49m\u001b[43mmerge_nodes\u001b[49m\u001b[43m(\u001b[49m\u001b[43medge\u001b[49m\u001b[43m[\u001b[49m\u001b[32;43m0\u001b[39;49m\u001b[43m]\u001b[49m\u001b[43m,\u001b[49m\u001b[43m \u001b[49m\u001b[43medge\u001b[49m\u001b[43m[\u001b[49m\u001b[32;43m1\u001b[39;49m\u001b[43m]\u001b[49m\u001b[43m)\u001b[49m\n",
      "\u001b[36mCell\u001b[39m\u001b[36m \u001b[39m\u001b[32mIn[22]\u001b[39m\u001b[32m, line 45\u001b[39m, in \u001b[36mTN.merge_nodes\u001b[39m\u001b[34m(self, node1, node2)\u001b[39m\n\u001b[32m     43\u001b[39m \u001b[38;5;28;01mfor\u001b[39;00m e \u001b[38;5;129;01min\u001b[39;00m \u001b[38;5;28mself\u001b[39m.data.edges():\n\u001b[32m     44\u001b[39m     \u001b[38;5;28;01mif\u001b[39;00m e[\u001b[32m0\u001b[39m] \u001b[38;5;129;01min\u001b[39;00m [node1, node2]:\n\u001b[32m---> \u001b[39m\u001b[32m45\u001b[39m         \u001b[43me\u001b[49m\u001b[43m[\u001b[49m\u001b[32;43m0\u001b[39;49m\u001b[43m]\u001b[49m = \u001b[38;5;28mself\u001b[39m.m\n\u001b[32m     46\u001b[39m         \u001b[38;5;66;03m# Actualitzar el from_index\u001b[39;00m\n\u001b[32m     47\u001b[39m         c = \u001b[32m0\u001b[39m\n",
      "\u001b[31mTypeError\u001b[39m: 'tuple' object does not support item assignment"
     ]
    }
   ],
   "source": [
    "# Create a simple graph\n",
    "G = nx.Graph()\n",
    "G.add_edges_from([(1, 2), (2, 3), (3, 1)])\n",
    "\n",
    "# Draw the graph\n",
    "nx.draw(G, with_labels=True)\n",
    "plt.show()\n",
    "\n",
    "tn = TN(G, [10, 10, 10], [5,5,5])\n",
    "tn.eval()"
   ]
  },
  {
   "cell_type": "code",
   "execution_count": 12,
   "id": "20168376-3b0c-4113-b845-3e6173eb12a9",
   "metadata": {},
   "outputs": [],
   "source": [
    "my_list = [1, 3, 5, 8, 10]\n",
    "my_func = lambda x: x % 2 == 0  # returns True for even numbers\n",
    "index = next((i for i, x in enumerate(my_list) if my_func(x)), None)"
   ]
  },
  {
   "cell_type": "code",
   "execution_count": null,
   "id": "5a824fd0-5a65-49dd-b5ee-a00f18a1a3b2",
   "metadata": {},
   "outputs": [],
   "source": [
    "print(index)"
   ]
  },
  {
   "cell_type": "code",
   "execution_count": null,
   "id": "8ae36d3c-4723-400a-8635-a9eb3c9f8bbb",
   "metadata": {},
   "outputs": [],
   "source": []
  }
 ],
 "metadata": {
  "kernelspec": {
   "display_name": "Python 3 (ipykernel)",
   "language": "python",
   "name": "python3"
  },
  "language_info": {
   "codemirror_mode": {
    "name": "ipython",
    "version": 3
   },
   "file_extension": ".py",
   "mimetype": "text/x-python",
   "name": "python",
   "nbconvert_exporter": "python",
   "pygments_lexer": "ipython3",
   "version": "3.13.2"
  }
 },
 "nbformat": 4,
 "nbformat_minor": 5
}
